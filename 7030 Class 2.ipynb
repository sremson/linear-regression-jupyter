{
 "cells": [
  {
   "cell_type": "markdown",
   "id": "a09af221-813c-4dbc-9677-0ebfcdb61f88",
   "metadata": {},
   "source": [
    "Class 2 Notebook"
   ]
  },
  {
   "cell_type": "markdown",
   "id": "508b5064-6f24-45cc-8f3a-9eb4af23581d",
   "metadata": {},
   "source": [
    "need to use access token in github instead of password, must use the clipboard function instead of just copy pasting or it won't work"
   ]
  },
  {
   "cell_type": "markdown",
   "id": "6d9bb38d-a07b-4fea-a92c-e15134388aef",
   "metadata": {},
   "source": [
    "for second assignment: follow module on canvas. only one github rpository to turn in with everything included"
   ]
  },
  {
   "cell_type": "code",
   "execution_count": 1,
   "id": "745d33b9-e34c-4be1-9fdd-d25d7f419c2f",
   "metadata": {},
   "outputs": [
    {
     "name": "stdout",
     "output_type": "stream",
     "text": [
      "[Errno 2] No such file or directory: 'assignment_2'\n",
      "/users/PAS2797/sremson\n"
     ]
    }
   ],
   "source": [
    "cd assignment_2"
   ]
  },
  {
   "cell_type": "code",
   "execution_count": 2,
   "id": "676e25d6-71c9-4ac4-8e30-837bacb74e59",
   "metadata": {},
   "outputs": [
    {
     "name": "stdout",
     "output_type": "stream",
     "text": [
      "/users/PAS2797/sremson/Assignment 2\n"
     ]
    }
   ],
   "source": [
    "cd Assignment 2"
   ]
  },
  {
   "cell_type": "markdown",
   "id": "442db672-acfc-4b5e-a6b5-3c3693589657",
   "metadata": {},
   "source": [
    "note to self do not use the ipykernel notebook because it does not have the kernel set up"
   ]
  },
  {
   "cell_type": "code",
   "execution_count": null,
   "id": "d9f96d9c-78b5-466f-a494-88f08139b391",
   "metadata": {},
   "outputs": [],
   "source": []
  }
 ],
 "metadata": {
  "kernelspec": {
   "display_name": "Python (7030_class_1)",
   "language": "python",
   "name": "7030_class_1"
  },
  "language_info": {
   "codemirror_mode": {
    "name": "ipython",
    "version": 3
   },
   "file_extension": ".py",
   "mimetype": "text/x-python",
   "name": "python",
   "nbconvert_exporter": "python",
   "pygments_lexer": "ipython3",
   "version": "3.10.18"
  }
 },
 "nbformat": 4,
 "nbformat_minor": 5
}
